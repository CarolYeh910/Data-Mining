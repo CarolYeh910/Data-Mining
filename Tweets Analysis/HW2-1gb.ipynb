{
 "cells": [
  {
   "cell_type": "code",
   "execution_count": 1,
   "metadata": {
    "deletable": false,
    "editable": false,
    "nbgrader": {
     "cell_type": "code",
     "checksum": "6b82e74c4ce61c047e00aa3e5f156a68",
     "grade": false,
     "grade_id": "cell-54f63d44709fcc35",
     "locked": true,
     "schema_version": 3,
     "solution": false,
     "task": false
    }
   },
   "outputs": [],
   "source": [
    "import os \n",
    "import pickle\n",
    "from time import time"
   ]
  },
  {
   "cell_type": "code",
   "execution_count": 2,
   "metadata": {
    "deletable": false,
    "editable": false,
    "nbgrader": {
     "cell_type": "code",
     "checksum": "a5cc1dffacc01b14de3b309cd3e8d50b",
     "grade": false,
     "grade_id": "cell-2f43ad1a078305a0",
     "locked": true,
     "schema_version": 3,
     "solution": false,
     "task": false
    }
   },
   "outputs": [],
   "source": [
    "_version = '1gb'"
   ]
  },
  {
   "cell_type": "code",
   "execution_count": 3,
   "metadata": {
    "deletable": false,
    "editable": false,
    "nbgrader": {
     "cell_type": "code",
     "checksum": "2b75a96f9b9f7350c71421a8cec60279",
     "grade": false,
     "grade_id": "cell-ba4d670f08bdced5",
     "locked": true,
     "schema_version": 3,
     "solution": false,
     "task": false
    }
   },
   "outputs": [],
   "source": [
    "# Replace information\n",
    "with open('HW2.py', 'r', encoding='utf-8') as file:\n",
    "    data = file.read()\n",
    "    \n",
    "source = \"_is_in_develop = True\"\n",
    "output = \"_is_in_develop = False\"\n",
    "data = data.replace(source, output, 1)\n",
    "\n",
    "source = f\"_version = '5mb'\"\n",
    "output = f\"_version = '{_version}'\"\n",
    "data = data.replace(source, output, 1)\n",
    "\n",
    "filename = f'HW2-{_version}.py'\n",
    "with open(filename, 'w', encoding='utf-8') as file:\n",
    "    file.write(data)"
   ]
  },
  {
   "cell_type": "code",
   "execution_count": 4,
   "metadata": {
    "deletable": false,
    "editable": false,
    "nbgrader": {
     "cell_type": "code",
     "checksum": "7b3e07cc47eaaaf722b6a8e0c7a94bb4",
     "grade": false,
     "grade_id": "cell-5f9f67b33e27050f",
     "locked": true,
     "schema_version": 3,
     "solution": false,
     "task": false
    }
   },
   "outputs": [
    {
     "name": "stdout",
     "output_type": "stream",
     "text": [
      "Setting default log level to \"WARN\".\n",
      "To adjust logging level use sc.setLogLevel(newLevel). For SparkR, use setLogLevel(newLevel).\n",
      "23/05/02 06:56:56 WARN NativeCodeLoader: Unable to load native-hadoop library for your platform... using builtin-java classes where applicable\n",
      "Username = jiy068\n",
      "total time 0:01:25\n",
      "set up sc 0:00:04\n",
      "read data 0:00:14\n",
      "count unique users 0:00:16\n",
      "count tweets per user partition 0:00:08\n",
      "count all unique tokens 0:00:19\n",
      "count overall most popular tokens 0:00:07\n",
      "print popular tokens in each group 0:00:16\n"
     ]
    }
   ],
   "source": [
    "if os.path.exists('answer.pickle'):\n",
    "    !rm answer.pickle\n",
    "\n",
    "start = time()\n",
    "!timeout 420 python {filename}\n",
    "end = time()\n",
    "\n",
    "duration = end-start\n",
    "\n",
    "# Read answers and delete temp files\n",
    "with open('answer.pickle', 'rb') as file:\n",
    "    answers = pickle.load(file)\n",
    "!rm answer.pickle\n",
    "!rm {filename}"
   ]
  },
  {
   "cell_type": "code",
   "execution_count": 5,
   "metadata": {
    "deletable": false,
    "editable": false,
    "nbgrader": {
     "cell_type": "code",
     "checksum": "dd47f544c22c323e0853bcb45791bb67",
     "grade": true,
     "grade_id": "cell-624003ee932f5c48",
     "locked": true,
     "points": 0,
     "schema_version": 3,
     "solution": false,
     "task": false
    }
   },
   "outputs": [],
   "source": [
    "##Hidden test cases here"
   ]
  },
  {
   "cell_type": "code",
   "execution_count": 6,
   "metadata": {
    "deletable": false,
    "editable": false,
    "nbgrader": {
     "cell_type": "code",
     "checksum": "6551130fa71d379cd3ef6ce37f677605",
     "grade": true,
     "grade_id": "num-tweets",
     "locked": true,
     "points": 2,
     "schema_version": 3,
     "solution": false,
     "task": false
    }
   },
   "outputs": [],
   "source": [
    "##Hidden test cases here"
   ]
  },
  {
   "cell_type": "code",
   "execution_count": 7,
   "metadata": {
    "deletable": false,
    "editable": false,
    "nbgrader": {
     "cell_type": "code",
     "checksum": "f7d329513aec5166e5072db087cd837d",
     "grade": true,
     "grade_id": "num-unique-users",
     "locked": true,
     "points": 2,
     "schema_version": 3,
     "solution": false,
     "task": false
    }
   },
   "outputs": [],
   "source": [
    "##Hidden test cases here"
   ]
  },
  {
   "cell_type": "code",
   "execution_count": 8,
   "metadata": {
    "deletable": false,
    "editable": false,
    "nbgrader": {
     "cell_type": "code",
     "checksum": "3a09a56655ee2e53912abd3414f06f07",
     "grade": true,
     "grade_id": "counts_per_part",
     "locked": true,
     "points": 2,
     "schema_version": 3,
     "solution": false,
     "task": false
    }
   },
   "outputs": [],
   "source": [
    "##Hidden test cases here"
   ]
  },
  {
   "cell_type": "code",
   "execution_count": 9,
   "metadata": {
    "deletable": false,
    "editable": false,
    "nbgrader": {
     "cell_type": "code",
     "checksum": "b920810daa7cfdcc90200895c875e64b",
     "grade": true,
     "grade_id": "num_of_tokens",
     "locked": true,
     "points": 2,
     "schema_version": 3,
     "solution": false,
     "task": false
    }
   },
   "outputs": [],
   "source": [
    "##Hidden test cases here"
   ]
  },
  {
   "cell_type": "code",
   "execution_count": 10,
   "metadata": {
    "deletable": false,
    "editable": false,
    "nbgrader": {
     "cell_type": "code",
     "checksum": "18f27488d458bc04f5a7febc8631a9ef",
     "grade": true,
     "grade_id": "num_freq_tokens",
     "locked": true,
     "points": 2,
     "schema_version": 3,
     "solution": false,
     "task": false
    }
   },
   "outputs": [],
   "source": [
    "##Hidden test cases here"
   ]
  },
  {
   "cell_type": "code",
   "execution_count": 11,
   "metadata": {
    "deletable": false,
    "editable": false,
    "nbgrader": {
     "cell_type": "code",
     "checksum": "2bf51a890e9b5c8d196d222cff2a6719",
     "grade": true,
     "grade_id": "top20",
     "locked": true,
     "points": 2,
     "schema_version": 3,
     "solution": false,
     "task": false
    }
   },
   "outputs": [],
   "source": [
    "##Hidden test cases here"
   ]
  },
  {
   "cell_type": "code",
   "execution_count": 12,
   "metadata": {
    "deletable": false,
    "editable": false,
    "nbgrader": {
     "cell_type": "code",
     "checksum": "e08660d8e6d4fd845f6d0b8175f68562",
     "grade": true,
     "grade_id": "popular_10_in_each_group",
     "locked": true,
     "points": 2,
     "schema_version": 3,
     "solution": false,
     "task": false
    }
   },
   "outputs": [],
   "source": [
    "##Hidden test cases here"
   ]
  },
  {
   "cell_type": "code",
   "execution_count": 13,
   "metadata": {
    "deletable": false,
    "editable": false,
    "nbgrader": {
     "cell_type": "code",
     "checksum": "7d5612d629af7105fc856802b7cfcc4e",
     "grade": false,
     "grade_id": "cell-71d803a4348bcb49",
     "locked": true,
     "schema_version": 3,
     "solution": false,
     "task": false
    }
   },
   "outputs": [
    {
     "name": "stdout",
     "output_type": "stream",
     "text": [
      "Your total time taken is :  85.17407464981079\n"
     ]
    }
   ],
   "source": [
    "print('Your total time taken is : ',duration)"
   ]
  },
  {
   "cell_type": "code",
   "execution_count": 14,
   "metadata": {
    "deletable": false,
    "editable": false,
    "nbgrader": {
     "cell_type": "code",
     "checksum": "92065bf1a0cf5ce5121003d058fb302e",
     "grade": true,
     "grade_id": "runtime_test_1gb_1",
     "locked": true,
     "points": 14,
     "schema_version": 3,
     "solution": false,
     "task": false
    }
   },
   "outputs": [],
   "source": [
    "assert duration < 173, \"Your implementation is slower than the Base solution.\""
   ]
  },
  {
   "cell_type": "code",
   "execution_count": 15,
   "metadata": {
    "deletable": false,
    "editable": false,
    "nbgrader": {
     "cell_type": "code",
     "checksum": "2a9ef161103c19f3185d5ea7a6c5d105",
     "grade": true,
     "grade_id": "runtime_test_1gb_2",
     "locked": true,
     "points": 10,
     "schema_version": 3,
     "solution": false,
     "task": false
    }
   },
   "outputs": [],
   "source": [
    "assert duration <= 113, \"Your implementation is slower than our Available Key\""
   ]
  },
  {
   "cell_type": "code",
   "execution_count": 16,
   "metadata": {
    "deletable": false,
    "editable": false,
    "nbgrader": {
     "cell_type": "code",
     "checksum": "9f25b2513e3938c84f9578d985c9fb47",
     "grade": true,
     "grade_id": "runtime_test_1gb_3",
     "locked": true,
     "points": 2,
     "schema_version": 3,
     "solution": false,
     "task": false
    }
   },
   "outputs": [
    {
     "ename": "AssertionError",
     "evalue": "Your implementation is slower than our Best Solution.",
     "output_type": "error",
     "traceback": [
      "\u001b[0;31m---------------------------------------------------------------------------\u001b[0m",
      "\u001b[0;31mAssertionError\u001b[0m                            Traceback (most recent call last)",
      "Cell \u001b[0;32mIn[16], line 1\u001b[0m\n\u001b[0;32m----> 1\u001b[0m \u001b[38;5;28;01massert\u001b[39;00m duration \u001b[38;5;241m<\u001b[39m\u001b[38;5;241m=\u001b[39m \u001b[38;5;241m76\u001b[39m, \u001b[38;5;124m\"\u001b[39m\u001b[38;5;124mYour implementation is slower than our Best Solution.\u001b[39m\u001b[38;5;124m\"\u001b[39m\n",
      "\u001b[0;31mAssertionError\u001b[0m: Your implementation is slower than our Best Solution."
     ]
    }
   ],
   "source": [
    "assert duration <= 76, \"Your implementation is slower than our Best Solution.\""
   ]
  }
 ],
 "metadata": {
  "kernelspec": {
   "display_name": "Python 3 (ipykernel)",
   "language": "python",
   "name": "python3"
  },
  "language_info": {
   "codemirror_mode": {
    "name": "ipython",
    "version": 3
   },
   "file_extension": ".py",
   "mimetype": "text/x-python",
   "name": "python",
   "nbconvert_exporter": "python",
   "pygments_lexer": "ipython3",
   "version": "3.8.15"
  },
  "toc": {
   "base_numbering": 1,
   "nav_menu": {},
   "number_sections": true,
   "sideBar": true,
   "skip_h1_title": false,
   "title_cell": "Table of Contents",
   "title_sidebar": "Contents",
   "toc_cell": false,
   "toc_position": {},
   "toc_section_display": true,
   "toc_window_display": false
  }
 },
 "nbformat": 4,
 "nbformat_minor": 1
}
